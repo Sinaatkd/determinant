{
 "cells": [
  {
   "cell_type": "markdown",
   "id": "eeffc232",
   "metadata": {},
   "source": [
    "# Determinant\n",
    "\n",
    "This app calculate determinant of matrix\n",
    "\n",
    "# Modes\n",
    "- Manual: you can send your matrix to app and then get determinant\n",
    "- Random: if you choose this mode the app takes (i, j) from you and make random matrix and finaly calculates its determinants"
   ]
  },
  {
   "cell_type": "markdown",
   "id": "7aa41b15",
   "metadata": {},
   "source": [
    "### Importing"
   ]
  },
  {
   "cell_type": "code",
   "execution_count": 222,
   "id": "e551c275",
   "metadata": {},
   "outputs": [],
   "source": [
    "import ast\n",
    "from random import randint"
   ]
  },
  {
   "cell_type": "markdown",
   "id": "87eb7191",
   "metadata": {},
   "source": [
    "### Required functions"
   ]
  },
  {
   "cell_type": "code",
   "execution_count": 223,
   "id": "c0a5de1c",
   "metadata": {},
   "outputs": [],
   "source": [
    "def print_matrix(matrix):\n",
    "    for item in matrix:\n",
    "        print(item)\n",
    "\n",
    "def generate_random_matrix(i, j):\n",
    "    matrix = []\n",
    "    rows = range(i)\n",
    "    columns = range(j)\n",
    "    for row in rows:\n",
    "        row_values = []\n",
    "        for column in columns:\n",
    "            row_values.append(randint(-10, 10))\n",
    "        matrix.append(row_values)\n",
    "    return matrix\n",
    "\n",
    "def convert_string_to_matrix(matrix):\n",
    "    return ast.literal_eval(matrix)\n",
    "    \n",
    "def calculate_determinant(matrix):\n",
    "    rows_count = len(matrix)\n",
    "    for item in matrix:\n",
    "        if len(item) != rows_count:\n",
    "            print('This is not a square matrix')\n",
    "            return\n",
    "    if rows_count == 1:\n",
    "        return matrix[0][0]\n",
    "    elif rows_count == 2:\n",
    "        first_op = (matrix[0][0] * matrix[1][1])\n",
    "        second_op = (matrix[0][1] * matrix[1][0])\n",
    "        result = first_op - second_op\n",
    "        return result\n",
    "    \n",
    "    det = 0\n",
    "    for col_index in range(rows_count):\n",
    "        submatrix = [row[:col_index] + row[col_index + 1:] for row in matrix[1:]]\n",
    "        cofactory = matrix[0][col_index] * calculate_determinant(submatrix)\n",
    "        det += cofactory * (-1) ** col_index\n",
    "    return det\n",
    "        "
   ]
  },
  {
   "cell_type": "markdown",
   "id": "1316bcff",
   "metadata": {},
   "source": [
    "### Choosing program mode (manual, random)"
   ]
  },
  {
   "cell_type": "code",
   "execution_count": 234,
   "id": "362ea369",
   "metadata": {
    "collapsed": true
   },
   "outputs": [
    {
     "name": "stdout",
     "output_type": "stream",
     "text": [
      "\n",
      "1- manual\n",
      "2- random\n",
      "1\n"
     ]
    }
   ],
   "source": [
    "mode = input('''\n",
    "1- manual\n",
    "2- random\n",
    "''')\n",
    "\n",
    "while mode not in ['1', '2']:\n",
    "    print('select correct option')\n",
    "    mode = input('''\n",
    "1- manual\n",
    "2- random\n",
    "''')\n"
   ]
  },
  {
   "cell_type": "markdown",
   "id": "373740ef",
   "metadata": {},
   "source": [
    "## The app"
   ]
  },
  {
   "cell_type": "code",
   "execution_count": 236,
   "id": "51b93b72",
   "metadata": {
    "collapsed": true
   },
   "outputs": [
    {
     "name": "stdout",
     "output_type": "stream",
     "text": [
      "enter your matrix: [[-8, 3, 9, -5], [5, 8, 7, 6], [-9, 8, -6, -5], [5, -2, 2, 3]]\n",
      "[-8, 3, 9, -5]\n",
      "[5, 8, 7, 6]\n",
      "[-9, 8, -6, -5]\n",
      "[5, -2, 2, 3]\n",
      "\n",
      "Determinant: -598\n"
     ]
    }
   ],
   "source": [
    "mode_int = int(mode)\n",
    "if mode_int == 1:\n",
    "    matrix_str = input('enter your matrix: ')\n",
    "    matrix = convert_string_to_matrix(matrix_str)\n",
    "elif mode_int == 2:\n",
    "    i = int(input('i: '))\n",
    "    j = int(input('j: '))\n",
    "    matrix = generate_random_matrix(i, j)\n",
    "print_matrix(matrix)\n",
    "determinant = calculate_determinant(matrix)\n",
    "print(f'\\nDeterminant: {determinant}')"
   ]
  },
  {
   "cell_type": "markdown",
   "id": "f19b8148",
   "metadata": {},
   "source": [
    "# Best way to calculate determinant in python"
   ]
  },
  {
   "cell_type": "code",
   "execution_count": 237,
   "id": "c71c2057",
   "metadata": {
    "collapsed": true
   },
   "outputs": [
    {
     "data": {
      "text/plain": [
       "-598.0000000000008"
      ]
     },
     "execution_count": 237,
     "metadata": {},
     "output_type": "execute_result"
    }
   ],
   "source": [
    "import numpy as np\n",
    "\n",
    "np.linalg.det(matrix)"
   ]
  },
  {
   "cell_type": "raw",
   "id": "47677f4c",
   "metadata": {},
   "source": [
    "# i: 10\n",
    "j: 10\n",
    "[8, 9, 10, -1, -1, 3, 8, 5, -2, -2]\n",
    "[-5, 8, -5, -8, -10, 2, 8, 6, -2, -2]\n",
    "[8, 3, 10, 10, -1, -10, 10, -4, -7, -6]\n",
    "[-9, -4, 9, -10, 9, -8, -2, -3, 3, 5]\n",
    "[-6, -10, 6, 7, 5, 0, 4, -3, -6, 8]\n",
    "[4, 7, 6, 3, -6, 10, 5, 5, -9, 0]\n",
    "[-1, -10, 8, 4, 2, -8, -3, -10, -6, -9]\n",
    "[6, 6, 0, -2, 1, 2, 0, -10, 7, -6]\n",
    "[3, -10, -4, 9, 10, -2, 8, -3, -6, -1]\n",
    "[1, 1, -9, 8, -7, 6, -2, -6, -4, -6]\n",
    "\n",
    "Determinant: 22395223616\n",
    "Duration: 7.04s\n",
    "\n",
    "np.linalg.det(matrix)\n",
    "Determinant: 22395223616.000027\n",
    "Duration: 0.003"
   ]
  }
 ],
 "metadata": {
  "kernelspec": {
   "display_name": "Python 3 (ipykernel)",
   "language": "python",
   "name": "python3"
  },
  "language_info": {
   "codemirror_mode": {
    "name": "ipython",
    "version": 3
   },
   "file_extension": ".py",
   "mimetype": "text/x-python",
   "name": "python",
   "nbconvert_exporter": "python",
   "pygments_lexer": "ipython3",
   "version": "3.11.1"
  }
 },
 "nbformat": 4,
 "nbformat_minor": 5
}
